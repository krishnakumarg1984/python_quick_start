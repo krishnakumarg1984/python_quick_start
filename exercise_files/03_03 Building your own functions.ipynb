{
 "cells": [
  {
   "cell_type": "code",
   "execution_count": 1,
   "id": "bda2cf97",
   "metadata": {},
   "outputs": [],
   "source": [
    "def addFive(x):\n",
    "    print(5 + x)"
   ]
  },
  {
   "cell_type": "code",
   "execution_count": 2,
   "id": "22e90dad",
   "metadata": {},
   "outputs": [
    {
     "name": "stdout",
     "output_type": "stream",
     "text": [
      "35\n"
     ]
    }
   ],
   "source": [
    "addFive(30)"
   ]
  },
  {
   "cell_type": "code",
   "execution_count": 3,
   "id": "668440e4",
   "metadata": {},
   "outputs": [
    {
     "name": "stdout",
     "output_type": "stream",
     "text": [
      "67.5\n"
     ]
    }
   ],
   "source": [
    "addFive(62.5)"
   ]
  },
  {
   "cell_type": "code",
   "execution_count": null,
   "id": "3e1b754a",
   "metadata": {},
   "outputs": [],
   "source": []
  }
 ],
 "metadata": {
  "kernelspec": {
   "display_name": "Python 3 (ipykernel)",
   "language": "python",
   "name": "python3"
  },
  "language_info": {
   "codemirror_mode": {
    "name": "ipython",
    "version": 3
   },
   "file_extension": ".py",
   "mimetype": "text/x-python",
   "name": "python",
   "nbconvert_exporter": "python",
   "pygments_lexer": "ipython3",
   "version": "3.10.8"
  }
 },
 "nbformat": 4,
 "nbformat_minor": 5
}
