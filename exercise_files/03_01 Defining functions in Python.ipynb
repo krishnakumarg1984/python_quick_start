{
 "cells": [
  {
   "cell_type": "code",
   "execution_count": null,
   "id": "b43e330a",
   "metadata": {},
   "outputs": [],
   "source": [
    "# other stuff here #\n",
    "\n",
    "name = input(\"Please enter your name:\")\n",
    "time = input(\"Please enter the time of data (morning/afternoon/evening):\")\n",
    "print(\"Good \" + time + \", \" + name + \"!\")\n",
    "\n",
    "# other stuff here #\n",
    "\n",
    "name = input(\"Please enter your name:\")\n",
    "time = input(\"Please enter the time of data (morning/afternoon/evening):\")\n",
    "print(\"Good \" + time + \", \" + name + \"!\")\n",
    "\n",
    "# other stuff here #\n",
    "\n",
    "name = input(\"Please enter your name:\")\n",
    "time = input(\"Please enter the time of data (morning/afternoon/evening):\")\n",
    "print(\"Good \" + time + \", \" + name + \"!\")\n",
    "\n",
    "# other stuff here #\n",
    "\n",
    "name = input(\"Please enter your name:\")\n",
    "time = input(\"Please enter the time of data (morning/afternoon/evening):\")\n",
    "print(\"Good \" + time + \", \" + name + \"!\")\n",
    "\n",
    "# other stuff here #"
   ]
  },
  {
   "cell_type": "code",
   "execution_count": null,
   "id": "0d84def6",
   "metadata": {},
   "outputs": [],
   "source": [
    "# other stuff here #\n",
    "\n",
    "def greet():\n",
    "    name = input(\"Please enter your name:\")\n",
    "    time = input(\"Please enter the time of data (morning/afternoon/evening):\")\n",
    "    print(\"Good \" + time + \", \" + name + \"!\")\n",
    "    \n",
    "greet()\n",
    "\n",
    "# other stuff here #\n",
    "\n",
    "greet()\n",
    "\n",
    "# other stuff here #\n",
    "\n",
    "greet()\n",
    "\n",
    "# other stuff here #\n",
    "\n",
    "greet()\n",
    "\n",
    "# other stuff here #"
   ]
  },
  {
   "cell_type": "code",
   "execution_count": null,
   "id": "aeec0ad7",
   "metadata": {},
   "outputs": [],
   "source": []
  }
 ],
 "metadata": {
  "kernelspec": {
   "display_name": "Python 3 (ipykernel)",
   "language": "python",
   "name": "python3"
  },
  "language_info": {
   "codemirror_mode": {
    "name": "ipython",
    "version": 3
   },
   "file_extension": ".py",
   "mimetype": "text/x-python",
   "name": "python",
   "nbconvert_exporter": "python",
   "pygments_lexer": "ipython3",
   "version": "3.10.8"
  }
 },
 "nbformat": 4,
 "nbformat_minor": 5
}
