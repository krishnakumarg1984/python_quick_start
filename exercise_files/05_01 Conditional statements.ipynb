{
 "cells": [
  {
   "cell_type": "code",
   "execution_count": null,
   "id": "45112c9b",
   "metadata": {},
   "outputs": [],
   "source": [
    "raining = input(\"Is it raining? (yes/no)\")\n",
    "if raining == \"yes\":\n",
    "    print(\"You need an umbrella!\")"
   ]
  },
  {
   "cell_type": "code",
   "execution_count": null,
   "id": "4afe369b",
   "metadata": {},
   "outputs": [],
   "source": [
    "print(raining)"
   ]
  },
  {
   "cell_type": "code",
   "execution_count": null,
   "id": "2762c04b",
   "metadata": {},
   "outputs": [],
   "source": []
  }
 ],
 "metadata": {
  "kernelspec": {
   "display_name": "Python 3 (ipykernel)",
   "language": "python",
   "name": "python3"
  },
  "language_info": {
   "codemirror_mode": {
    "name": "ipython",
    "version": 3
   },
   "file_extension": ".py",
   "mimetype": "text/x-python",
   "name": "python",
   "nbconvert_exporter": "python",
   "pygments_lexer": "ipython3",
   "version": "3.10.8"
  }
 },
 "nbformat": 4,
 "nbformat_minor": 5
}
