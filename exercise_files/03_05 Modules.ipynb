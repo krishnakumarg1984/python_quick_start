{
 "cells": [
  {
   "cell_type": "code",
   "execution_count": 1,
   "id": "96bb7295",
   "metadata": {},
   "outputs": [],
   "source": [
    "import calendar"
   ]
  },
  {
   "cell_type": "code",
   "execution_count": 2,
   "id": "08a1a4ac",
   "metadata": {},
   "outputs": [],
   "source": [
    "cal = calendar.month(2019, 7)"
   ]
  },
  {
   "cell_type": "code",
   "execution_count": 3,
   "id": "e3754c57",
   "metadata": {},
   "outputs": [
    {
     "name": "stdout",
     "output_type": "stream",
     "text": [
      "     July 2019\n",
      "Mo Tu We Th Fr Sa Su\n",
      " 1  2  3  4  5  6  7\n",
      " 8  9 10 11 12 13 14\n",
      "15 16 17 18 19 20 21\n",
      "22 23 24 25 26 27 28\n",
      "29 30 31\n",
      "\n"
     ]
    }
   ],
   "source": [
    "print(cal)"
   ]
  },
  {
   "cell_type": "code",
   "execution_count": 4,
   "id": "86dbcdc3",
   "metadata": {},
   "outputs": [],
   "source": [
    "import math"
   ]
  },
  {
   "cell_type": "code",
   "execution_count": 5,
   "id": "db023a49",
   "metadata": {},
   "outputs": [],
   "source": [
    "result = math.sqrt(49)"
   ]
  },
  {
   "cell_type": "code",
   "execution_count": 6,
   "id": "91bb609f",
   "metadata": {},
   "outputs": [
    {
     "name": "stdout",
     "output_type": "stream",
     "text": [
      "7.0\n"
     ]
    }
   ],
   "source": [
    "print(result)"
   ]
  },
  {
   "cell_type": "code",
   "execution_count": 7,
   "id": "1a5f77db",
   "metadata": {},
   "outputs": [],
   "source": [
    "import random"
   ]
  },
  {
   "cell_type": "code",
   "execution_count": 9,
   "id": "f8f3b714",
   "metadata": {},
   "outputs": [],
   "source": [
    "number = random.randint(1, 100)"
   ]
  },
  {
   "cell_type": "code",
   "execution_count": 10,
   "id": "006f6fd9",
   "metadata": {},
   "outputs": [
    {
     "name": "stdout",
     "output_type": "stream",
     "text": [
      "73\n"
     ]
    }
   ],
   "source": [
    "print(number)"
   ]
  },
  {
   "cell_type": "code",
   "execution_count": 11,
   "id": "75b4c491",
   "metadata": {},
   "outputs": [],
   "source": [
    "movies = [\"Aladdin\", \"Stuber\", \"Pets 2\", \"Toy Story 4\", \"The Lion King\", \"Late Night\",\n",
    "         \"Judgementall Hai Kya\", \"Once Upon a Time in Hollywood\", \"Spider-Man: Far From Home\",\n",
    "         \"Avengers: Endgame\", \"John Wick: Chapter 3 — Parabellum\", \"Men in Black: International\"]"
   ]
  },
  {
   "cell_type": "code",
   "execution_count": 12,
   "id": "f2815612",
   "metadata": {},
   "outputs": [],
   "source": [
    "watch = random.choice(movies)"
   ]
  },
  {
   "cell_type": "code",
   "execution_count": 13,
   "id": "9f012d8a",
   "metadata": {},
   "outputs": [
    {
     "name": "stdout",
     "output_type": "stream",
     "text": [
      "Toy Story 4\n"
     ]
    }
   ],
   "source": [
    "print(watch)"
   ]
  },
  {
   "cell_type": "code",
   "execution_count": 14,
   "id": "24f745aa",
   "metadata": {},
   "outputs": [],
   "source": [
    "deck = [\"Ace\", \"Two\", \"Three\", \"Four\", \"Five\", \"Six\", \"Seven\", \"Eight\", \"Nine\", \"Ten\", \"Jack\", \"Queen\", \"King\"]"
   ]
  },
  {
   "cell_type": "code",
   "execution_count": 15,
   "id": "f8dd0cd8",
   "metadata": {},
   "outputs": [
    {
     "name": "stdout",
     "output_type": "stream",
     "text": [
      "['Ace', 'Two', 'Three', 'Four', 'Five', 'Six', 'Seven', 'Eight', 'Nine', 'Ten', 'Jack', 'Queen', 'King']\n"
     ]
    }
   ],
   "source": [
    "print(deck)"
   ]
  },
  {
   "cell_type": "code",
   "execution_count": 16,
   "id": "9eeeb182",
   "metadata": {},
   "outputs": [],
   "source": [
    "random.shuffle(deck)"
   ]
  },
  {
   "cell_type": "code",
   "execution_count": 17,
   "id": "c4c6dd22",
   "metadata": {},
   "outputs": [
    {
     "name": "stdout",
     "output_type": "stream",
     "text": [
      "['Eight', 'Four', 'Ten', 'Nine', 'Five', 'Queen', 'Jack', 'Seven', 'Ace', 'Three', 'King', 'Two', 'Six']\n"
     ]
    }
   ],
   "source": [
    "print(deck)"
   ]
  },
  {
   "cell_type": "code",
   "execution_count": null,
   "id": "f3006d82",
   "metadata": {},
   "outputs": [],
   "source": []
  }
 ],
 "metadata": {
  "kernelspec": {
   "display_name": "Python 3 (ipykernel)",
   "language": "python",
   "name": "python3"
  },
  "language_info": {
   "codemirror_mode": {
    "name": "ipython",
    "version": 3
   },
   "file_extension": ".py",
   "mimetype": "text/x-python",
   "name": "python",
   "nbconvert_exporter": "python",
   "pygments_lexer": "ipython3",
   "version": "3.10.8"
  }
 },
 "nbformat": 4,
 "nbformat_minor": 5
}
