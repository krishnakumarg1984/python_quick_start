{
 "cells": [
  {
   "cell_type": "code",
   "execution_count": 1,
   "id": "394dd92d",
   "metadata": {},
   "outputs": [],
   "source": [
    "child1_birth = (\"Julia\", \n",
    "                \"Lucile Packard Children's Hospital\", \"Stanford\", \"California\", \"United States\", \n",
    "                \"07/29/2019\", \"09:42\")"
   ]
  },
  {
   "cell_type": "code",
   "execution_count": 2,
   "id": "87055309",
   "metadata": {},
   "outputs": [],
   "source": [
    "child2_birth = (\"Austin\",\n",
    "               \"Washington Hospital\", \"Fremont\", \"California\", \"United States\",\n",
    "               \"07/28/2019\", \"16:25\")"
   ]
  },
  {
   "cell_type": "code",
   "execution_count": 3,
   "id": "156e57bc",
   "metadata": {},
   "outputs": [
    {
     "data": {
      "text/plain": [
       "tuple"
      ]
     },
     "execution_count": 3,
     "metadata": {},
     "output_type": "execute_result"
    }
   ],
   "source": [
    "type(child1_birth)"
   ]
  },
  {
   "cell_type": "code",
   "execution_count": 4,
   "id": "b65b6420",
   "metadata": {},
   "outputs": [
    {
     "data": {
      "text/plain": [
       "tuple"
      ]
     },
     "execution_count": 4,
     "metadata": {},
     "output_type": "execute_result"
    }
   ],
   "source": [
    "type(child2_birth)"
   ]
  },
  {
   "cell_type": "code",
   "execution_count": 5,
   "id": "240ae4b0",
   "metadata": {},
   "outputs": [
    {
     "name": "stdout",
     "output_type": "stream",
     "text": [
      "('Julia', \"Lucile Packard Children's Hospital\", 'Stanford', 'California', 'United States', '07/29/2019', '09:42')\n"
     ]
    }
   ],
   "source": [
    "print(child1_birth)"
   ]
  },
  {
   "cell_type": "code",
   "execution_count": 6,
   "id": "2d7a972b",
   "metadata": {},
   "outputs": [
    {
     "name": "stdout",
     "output_type": "stream",
     "text": [
      "('Austin', 'Washington Hospital', 'Fremont', 'California', 'United States', '07/28/2019', '16:25')\n"
     ]
    }
   ],
   "source": [
    "print(child2_birth)"
   ]
  },
  {
   "cell_type": "code",
   "execution_count": 7,
   "id": "324fec46",
   "metadata": {},
   "outputs": [
    {
     "name": "stdout",
     "output_type": "stream",
     "text": [
      "Julia\n"
     ]
    }
   ],
   "source": [
    "print(child1_birth[0])"
   ]
  },
  {
   "cell_type": "code",
   "execution_count": 8,
   "id": "10208b81",
   "metadata": {},
   "outputs": [
    {
     "name": "stdout",
     "output_type": "stream",
     "text": [
      "16:25\n"
     ]
    }
   ],
   "source": [
    "# second child's original time of birth\n",
    "\n",
    "print(child2_birth[6])"
   ]
  },
  {
   "cell_type": "code",
   "execution_count": 9,
   "id": "01c5d43f",
   "metadata": {},
   "outputs": [
    {
     "ename": "TypeError",
     "evalue": "'tuple' object does not support item assignment",
     "output_type": "error",
     "traceback": [
      "\u001b[0;31m---------------------------------------------------------------------------\u001b[0m",
      "\u001b[0;31mTypeError\u001b[0m                                 Traceback (most recent call last)",
      "Cell \u001b[0;32mIn [9], line 3\u001b[0m\n\u001b[1;32m      1\u001b[0m \u001b[38;5;66;03m# attempt to change second child's time of birth\u001b[39;00m\n\u001b[0;32m----> 3\u001b[0m \u001b[43mchild2_birth\u001b[49m\u001b[43m[\u001b[49m\u001b[38;5;241;43m6\u001b[39;49m\u001b[43m]\u001b[49m \u001b[38;5;241m=\u001b[39m \u001b[38;5;124m\"\u001b[39m\u001b[38;5;124m17:25\u001b[39m\u001b[38;5;124m\"\u001b[39m\n",
      "\u001b[0;31mTypeError\u001b[0m: 'tuple' object does not support item assignment"
     ]
    }
   ],
   "source": [
    "# attempt to change second child's time of birth\n",
    "\n",
    "child2_birth[6] = \"17:25\""
   ]
  },
  {
   "cell_type": "code",
   "execution_count": null,
   "id": "ea107bbc",
   "metadata": {},
   "outputs": [],
   "source": []
  }
 ],
 "metadata": {
  "kernelspec": {
   "display_name": "Python 3 (ipykernel)",
   "language": "python",
   "name": "python3"
  },
  "language_info": {
   "codemirror_mode": {
    "name": "ipython",
    "version": 3
   },
   "file_extension": ".py",
   "mimetype": "text/x-python",
   "name": "python",
   "nbconvert_exporter": "python",
   "pygments_lexer": "ipython3",
   "version": "3.10.8"
  }
 },
 "nbformat": 4,
 "nbformat_minor": 5
}
