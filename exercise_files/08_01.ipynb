{
 "cells": [
  {
   "cell_type": "code",
   "execution_count": 1,
   "id": "24c2687b",
   "metadata": {},
   "outputs": [],
   "source": [
    "class Dog():\n",
    "    def __init__(self, name, age):\n",
    "        self.name = name\n",
    "        self.age = age\n",
    "    \n",
    "    def bark(self):\n",
    "        print(\"Woof woof!\")"
   ]
  },
  {
   "cell_type": "code",
   "execution_count": 2,
   "id": "2728ad62",
   "metadata": {},
   "outputs": [],
   "source": [
    "fido = Dog(\"Fido\", 2)"
   ]
  },
  {
   "cell_type": "code",
   "execution_count": 3,
   "id": "5a8b74c4",
   "metadata": {},
   "outputs": [
    {
     "name": "stdout",
     "output_type": "stream",
     "text": [
      "Woof woof!\n"
     ]
    }
   ],
   "source": [
    "fido.bark()"
   ]
  },
  {
   "cell_type": "code",
   "execution_count": 4,
   "id": "ef4669cd",
   "metadata": {},
   "outputs": [
    {
     "name": "stdout",
     "output_type": "stream",
     "text": [
      "Fido\n"
     ]
    }
   ],
   "source": [
    "print(fido.name)"
   ]
  },
  {
   "cell_type": "code",
   "execution_count": 5,
   "id": "4ce9a613",
   "metadata": {},
   "outputs": [
    {
     "name": "stdout",
     "output_type": "stream",
     "text": [
      "2\n"
     ]
    }
   ],
   "source": [
    "print(fido.age)"
   ]
  },
  {
   "cell_type": "code",
   "execution_count": 6,
   "id": "c18de218",
   "metadata": {},
   "outputs": [],
   "source": [
    "fido.age += 1"
   ]
  },
  {
   "cell_type": "code",
   "execution_count": 7,
   "id": "ed3d1176",
   "metadata": {},
   "outputs": [
    {
     "name": "stdout",
     "output_type": "stream",
     "text": [
      "3\n"
     ]
    }
   ],
   "source": [
    "print(fido.age)"
   ]
  },
  {
   "cell_type": "code",
   "execution_count": null,
   "id": "5d5f2353",
   "metadata": {},
   "outputs": [],
   "source": []
  }
 ],
 "metadata": {
  "kernelspec": {
   "display_name": "Python 3 (ipykernel)",
   "language": "python",
   "name": "python3"
  },
  "language_info": {
   "codemirror_mode": {
    "name": "ipython",
    "version": 3
   },
   "file_extension": ".py",
   "mimetype": "text/x-python",
   "name": "python",
   "nbconvert_exporter": "python",
   "pygments_lexer": "ipython3",
   "version": "3.10.8"
  }
 },
 "nbformat": 4,
 "nbformat_minor": 5
}
