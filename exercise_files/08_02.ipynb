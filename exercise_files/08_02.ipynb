{
 "cells": [
  {
   "cell_type": "code",
   "execution_count": 1,
   "id": "69b511c0",
   "metadata": {},
   "outputs": [],
   "source": [
    "class Dog():\n",
    "    \n",
    "    def __init__(self, name, age):\n",
    "        self.name = name\n",
    "        self.age = age\n",
    "        \n",
    "    def bark(self):\n",
    "        print(self.name, \"is barking.\")\n",
    "        \n",
    "    def addYear(self):\n",
    "        self.age += 1\n",
    "        \n",
    "    def getInfo(self):\n",
    "        print(self.name, \"is\", self.age, \"years old.\")\n",
    "        \n",
    "class Poodle(Dog):\n",
    "    \n",
    "    def __init__(self, name, age, color, weight):\n",
    "        self.name = name\n",
    "        self.age = age\n",
    "        self.color = color\n",
    "        self.weight = weight\n",
    "        \n",
    "    def bark(self, manner=\"energetically\"):\n",
    "        print(f\"{self.name} is barking {manner}.\")\n",
    "        \n",
    "    def getInfo(self):\n",
    "        print(f\"{self.name} is a {self.age} years old {self.color} poodle and weighs {self.weight} pounds.\")\n",
    "        \n",
    "class Corgi(Dog):\n",
    "    \n",
    "    def __init__(self, name, age, color, weight):\n",
    "        self.name = name\n",
    "        self.age = age\n",
    "        self.color = color\n",
    "        self.weight = weight\n",
    "        \n",
    "    def bark(self, manner=\"briefly\"):\n",
    "        print(f\"{self.name} is barking {manner}.\")\n",
    "        \n",
    "    def getInfo(self):\n",
    "        print(f\"{self.name} is a {self.age} years old {self.color} corgi and weighs {self.weight} pounds.\")"
   ]
  },
  {
   "cell_type": "code",
   "execution_count": 2,
   "id": "e719fcda",
   "metadata": {},
   "outputs": [
    {
     "name": "stdout",
     "output_type": "stream",
     "text": [
      "Ella is 3.5 years old.\n"
     ]
    }
   ],
   "source": [
    "ella = Dog(\"Ella\", 3.5)\n",
    "ella.getInfo()"
   ]
  },
  {
   "cell_type": "code",
   "execution_count": 3,
   "id": "5c233e65",
   "metadata": {},
   "outputs": [
    {
     "name": "stdout",
     "output_type": "stream",
     "text": [
      "Ella is barking.\n"
     ]
    }
   ],
   "source": [
    "ella.bark()"
   ]
  },
  {
   "cell_type": "code",
   "execution_count": 4,
   "id": "6727bc06",
   "metadata": {},
   "outputs": [
    {
     "name": "stdout",
     "output_type": "stream",
     "text": [
      "Ella is 4.5 years old.\n"
     ]
    }
   ],
   "source": [
    "ella.addYear()\n",
    "ella.getInfo()"
   ]
  },
  {
   "cell_type": "code",
   "execution_count": 5,
   "id": "1e36cb39",
   "metadata": {},
   "outputs": [
    {
     "name": "stdout",
     "output_type": "stream",
     "text": [
      "Ella is a 3.5 years old gray poodle and weighs 40 pounds.\n"
     ]
    }
   ],
   "source": [
    "ella = Poodle(\"Ella\", 3.5, \"gray\", 40)\n",
    "ella.getInfo()"
   ]
  },
  {
   "cell_type": "code",
   "execution_count": 6,
   "id": "fca7657e",
   "metadata": {},
   "outputs": [
    {
     "name": "stdout",
     "output_type": "stream",
     "text": [
      "Ella is barking energetically.\n"
     ]
    }
   ],
   "source": [
    "ella.bark()"
   ]
  },
  {
   "cell_type": "code",
   "execution_count": 7,
   "id": "fe7becbd",
   "metadata": {},
   "outputs": [
    {
     "name": "stdout",
     "output_type": "stream",
     "text": [
      "Ella is a 4.5 years old gray poodle and weighs 40 pounds.\n"
     ]
    }
   ],
   "source": [
    "ella.addYear()\n",
    "ella.getInfo()"
   ]
  },
  {
   "cell_type": "code",
   "execution_count": 8,
   "id": "7685aba5",
   "metadata": {},
   "outputs": [
    {
     "name": "stdout",
     "output_type": "stream",
     "text": [
      "Bruno is a 4 years old golden corgi and weighs 26 pounds.\n"
     ]
    }
   ],
   "source": [
    "bruno = Corgi(\"Bruno\", 4, \"golden\", 26)\n",
    "bruno.getInfo()"
   ]
  },
  {
   "cell_type": "code",
   "execution_count": 9,
   "id": "6419c2b3",
   "metadata": {},
   "outputs": [
    {
     "name": "stdout",
     "output_type": "stream",
     "text": [
      "Bruno is barking briefly.\n"
     ]
    }
   ],
   "source": [
    "bruno.bark()"
   ]
  },
  {
   "cell_type": "code",
   "execution_count": 10,
   "id": "f61fdf93",
   "metadata": {},
   "outputs": [
    {
     "name": "stdout",
     "output_type": "stream",
     "text": [
      "Bruno is a 5 years old golden corgi and weighs 26 pounds.\n"
     ]
    }
   ],
   "source": [
    "bruno.addYear()\n",
    "bruno.getInfo()"
   ]
  },
  {
   "cell_type": "code",
   "execution_count": null,
   "id": "bb12e3ce",
   "metadata": {},
   "outputs": [],
   "source": []
  }
 ],
 "metadata": {
  "kernelspec": {
   "display_name": "Python 3 (ipykernel)",
   "language": "python",
   "name": "python3"
  },
  "language_info": {
   "codemirror_mode": {
    "name": "ipython",
    "version": 3
   },
   "file_extension": ".py",
   "mimetype": "text/x-python",
   "name": "python",
   "nbconvert_exporter": "python",
   "pygments_lexer": "ipython3",
   "version": "3.11.2"
  }
 },
 "nbformat": 4,
 "nbformat_minor": 5
}
