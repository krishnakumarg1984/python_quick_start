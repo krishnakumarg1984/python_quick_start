{
 "cells": [
  {
   "cell_type": "code",
   "execution_count": 1,
   "id": "cab10e3c",
   "metadata": {},
   "outputs": [
    {
     "name": "stdout",
     "output_type": "stream",
     "text": [
      "Is it raining? (yes/no)yes\n",
      "Do you have an umbrella? (yes/no)yes\n",
      "Don't forget your umbrella when you go out!\n"
     ]
    }
   ],
   "source": [
    "raining = input(\"Is it raining? (yes/no)\")\n",
    "umbrella = input(\"Do you have an umbrella? (yes/no)\")\n",
    "if raining == \"yes\" and umbrella == \"yes\":\n",
    "    print(\"Don't forget your umbrella when you go out!\")\n",
    "elif raining == \"yes\" and umbrella == \"no\":\n",
    "    print(\"Wear a waterproof jacket when you go out!\")"
   ]
  },
  {
   "cell_type": "code",
   "execution_count": 2,
   "id": "40de2069",
   "metadata": {},
   "outputs": [
    {
     "name": "stdout",
     "output_type": "stream",
     "text": [
      "Enter a number here: 1.5\n",
      "The number is less than 2.\n"
     ]
    }
   ],
   "source": [
    "x = input(\"Enter a number here: \")\n",
    "x = float(x)\n",
    "if x < 2:\n",
    "    print(\"The number is less than 2.\")\n",
    "elif x < 6:\n",
    "    print(\"The number is less than 6.\")\n",
    "elif x < 8:\n",
    "    print(\"The number is less than 8.\")\n",
    "elif x < 10:\n",
    "    print(\"The number is less than 10.\")"
   ]
  },
  {
   "cell_type": "code",
   "execution_count": 3,
   "id": "8af5be62",
   "metadata": {},
   "outputs": [
    {
     "name": "stdout",
     "output_type": "stream",
     "text": [
      "1.0\n"
     ]
    }
   ],
   "source": [
    "x = 1\n",
    "print(float(x))"
   ]
  },
  {
   "cell_type": "code",
   "execution_count": 4,
   "id": "139eb31f",
   "metadata": {},
   "outputs": [
    {
     "name": "stdout",
     "output_type": "stream",
     "text": [
      "1\n"
     ]
    }
   ],
   "source": [
    "x = 1.5\n",
    "print(int(x))"
   ]
  },
  {
   "cell_type": "code",
   "execution_count": 5,
   "id": "3d0674c3",
   "metadata": {},
   "outputs": [
    {
     "name": "stdout",
     "output_type": "stream",
     "text": [
      "Enter a number here: 1.5\n",
      "The number is less than 2.\n",
      "The number is less than 6.\n",
      "The number is less than 8.\n",
      "The number is less than 10.\n"
     ]
    }
   ],
   "source": [
    "x = input(\"Enter a number here: \")\n",
    "x = float(x)\n",
    "if x < 2:\n",
    "    print(\"The number is less than 2.\")\n",
    "if x < 6:\n",
    "    print(\"The number is less than 6.\")\n",
    "if x < 8:\n",
    "    print(\"The number is less than 8.\")\n",
    "if x < 10:\n",
    "    print(\"The number is less than 10.\")"
   ]
  },
  {
   "cell_type": "code",
   "execution_count": 6,
   "id": "d8a7a341",
   "metadata": {},
   "outputs": [],
   "source": [
    "# input is -4 --> absolute value is 4 (4 is -1 * -4)\n",
    "# input is 0 --> absolute value is 0\n",
    "# input is 78.3 --> absolute value is 78.3"
   ]
  },
  {
   "cell_type": "code",
   "execution_count": 7,
   "id": "e2f2c48b",
   "metadata": {},
   "outputs": [],
   "source": [
    "def abs_val(num):\n",
    "    if num < 0:\n",
    "        return -num\n",
    "    elif num == 0:\n",
    "        return 0\n",
    "    else:\n",
    "        return num"
   ]
  },
  {
   "cell_type": "code",
   "execution_count": 8,
   "id": "a616b105",
   "metadata": {},
   "outputs": [
    {
     "name": "stdout",
     "output_type": "stream",
     "text": [
      "4\n"
     ]
    }
   ],
   "source": [
    "result = abs_val(-4)\n",
    "print(result)"
   ]
  },
  {
   "cell_type": "code",
   "execution_count": 9,
   "id": "added145",
   "metadata": {},
   "outputs": [
    {
     "name": "stdout",
     "output_type": "stream",
     "text": [
      "0\n"
     ]
    }
   ],
   "source": [
    "result = abs_val(0)\n",
    "print(result)"
   ]
  },
  {
   "cell_type": "code",
   "execution_count": 10,
   "id": "3a45ac51",
   "metadata": {},
   "outputs": [
    {
     "name": "stdout",
     "output_type": "stream",
     "text": [
      "78.3\n"
     ]
    }
   ],
   "source": [
    "result = abs_val(78.3)\n",
    "print(result)"
   ]
  },
  {
   "cell_type": "code",
   "execution_count": null,
   "id": "5cf10b88",
   "metadata": {},
   "outputs": [],
   "source": []
  }
 ],
 "metadata": {
  "kernelspec": {
   "display_name": "Python 3 (ipykernel)",
   "language": "python",
   "name": "python3"
  },
  "language_info": {
   "codemirror_mode": {
    "name": "ipython",
    "version": 3
   },
   "file_extension": ".py",
   "mimetype": "text/x-python",
   "name": "python",
   "nbconvert_exporter": "python",
   "pygments_lexer": "ipython3",
   "version": "3.10.8"
  }
 },
 "nbformat": 4,
 "nbformat_minor": 5
}
