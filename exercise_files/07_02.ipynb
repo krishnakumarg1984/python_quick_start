{
 "cells": [
  {
   "cell_type": "code",
   "execution_count": 1,
   "id": "c5a5889b",
   "metadata": {},
   "outputs": [],
   "source": [
    "def factorial(n):\n",
    "    \"\"\"Return the factorial of positive integer n.\"\"\"\n",
    "    if n == 1:\n",
    "        return 1\n",
    "    else:\n",
    "        return n * factorial(n - 1)"
   ]
  },
  {
   "cell_type": "code",
   "execution_count": 2,
   "id": "4c8eda26",
   "metadata": {},
   "outputs": [],
   "source": [
    "def sum_digits(n):\n",
    "    \"\"\"Return the sum of the digits of positive integer n.\"\"\"\n",
    "    if n < 10:\n",
    "        return n\n",
    "    else:\n",
    "        all_but_last = n // 10\n",
    "        last = n % 10\n",
    "        return sum_digits(all_but_last) + last"
   ]
  },
  {
   "cell_type": "code",
   "execution_count": 3,
   "id": "988f8e7a",
   "metadata": {},
   "outputs": [
    {
     "data": {
      "text/plain": [
       "2"
      ]
     },
     "execution_count": 3,
     "metadata": {},
     "output_type": "execute_result"
    }
   ],
   "source": [
    "sum_digits(2)"
   ]
  },
  {
   "cell_type": "code",
   "execution_count": 4,
   "id": "e9c24f1f",
   "metadata": {},
   "outputs": [
    {
     "data": {
      "text/plain": [
       "1"
      ]
     },
     "execution_count": 4,
     "metadata": {},
     "output_type": "execute_result"
    }
   ],
   "source": [
    "sum_digits(10)"
   ]
  },
  {
   "cell_type": "code",
   "execution_count": 5,
   "id": "c16563ae",
   "metadata": {},
   "outputs": [
    {
     "data": {
      "text/plain": [
       "12"
      ]
     },
     "execution_count": 5,
     "metadata": {},
     "output_type": "execute_result"
    }
   ],
   "source": [
    "sum_digits(75)"
   ]
  },
  {
   "cell_type": "code",
   "execution_count": 6,
   "id": "a087dc38",
   "metadata": {},
   "outputs": [],
   "source": [
    "def fib(n):\n",
    "    \"\"\"Return the nth number in the Fibonacci sequence.\"\"\"\n",
    "    if n == 1:\n",
    "        return 0\n",
    "    elif n == 2:\n",
    "        return 1\n",
    "    else:\n",
    "        return fib(n - 1) + fib(n - 2)"
   ]
  },
  {
   "cell_type": "code",
   "execution_count": 7,
   "id": "b3963033",
   "metadata": {},
   "outputs": [
    {
     "data": {
      "text/plain": [
       "5"
      ]
     },
     "execution_count": 7,
     "metadata": {},
     "output_type": "execute_result"
    }
   ],
   "source": [
    "fib(6)"
   ]
  },
  {
   "cell_type": "code",
   "execution_count": 8,
   "id": "266cb75b",
   "metadata": {},
   "outputs": [],
   "source": [
    "def isPalindrome(s):\n",
    "    \"\"\"Return whether string s is a palindrome.\"\"\"\n",
    "    if len(s) <= 1:\n",
    "        return True\n",
    "    else:\n",
    "        return s[0] == s[-1] and isPalindrome(s[1:-1])"
   ]
  },
  {
   "cell_type": "code",
   "execution_count": 9,
   "id": "8887fdfb",
   "metadata": {},
   "outputs": [
    {
     "data": {
      "text/plain": [
       "True"
      ]
     },
     "execution_count": 9,
     "metadata": {},
     "output_type": "execute_result"
    }
   ],
   "source": [
    "isPalindrome(\"mom\")"
   ]
  },
  {
   "cell_type": "code",
   "execution_count": 10,
   "id": "03693d43",
   "metadata": {},
   "outputs": [
    {
     "data": {
      "text/plain": [
       "True"
      ]
     },
     "execution_count": 10,
     "metadata": {},
     "output_type": "execute_result"
    }
   ],
   "source": [
    "isPalindrome(\"k\")"
   ]
  },
  {
   "cell_type": "code",
   "execution_count": 12,
   "id": "a14cebcf",
   "metadata": {},
   "outputs": [
    {
     "data": {
      "text/plain": [
       "True"
      ]
     },
     "execution_count": 12,
     "metadata": {},
     "output_type": "execute_result"
    }
   ],
   "source": [
    "isPalindrome(\"121\")"
   ]
  },
  {
   "cell_type": "code",
   "execution_count": 13,
   "id": "920bae36",
   "metadata": {},
   "outputs": [
    {
     "data": {
      "text/plain": [
       "True"
      ]
     },
     "execution_count": 13,
     "metadata": {},
     "output_type": "execute_result"
    }
   ],
   "source": [
    "isPalindrome(\"1221\")"
   ]
  },
  {
   "cell_type": "code",
   "execution_count": 14,
   "id": "a77e54ad",
   "metadata": {},
   "outputs": [
    {
     "data": {
      "text/plain": [
       "False"
      ]
     },
     "execution_count": 14,
     "metadata": {},
     "output_type": "execute_result"
    }
   ],
   "source": [
    "isPalindrome(\"spoon\")"
   ]
  },
  {
   "cell_type": "code",
   "execution_count": 15,
   "id": "0f485db7",
   "metadata": {},
   "outputs": [
    {
     "data": {
      "text/plain": [
       "False"
      ]
     },
     "execution_count": 15,
     "metadata": {},
     "output_type": "execute_result"
    }
   ],
   "source": [
    "isPalindrome(\"-5\")"
   ]
  },
  {
   "cell_type": "code",
   "execution_count": 16,
   "id": "f4bfa725",
   "metadata": {},
   "outputs": [
    {
     "data": {
      "text/plain": [
       "False"
      ]
     },
     "execution_count": 16,
     "metadata": {},
     "output_type": "execute_result"
    }
   ],
   "source": [
    "isPalindrome(\"1212\")"
   ]
  },
  {
   "cell_type": "code",
   "execution_count": null,
   "id": "084feedd",
   "metadata": {},
   "outputs": [],
   "source": []
  }
 ],
 "metadata": {
  "kernelspec": {
   "display_name": "Python 3 (ipykernel)",
   "language": "python",
   "name": "python3"
  },
  "language_info": {
   "codemirror_mode": {
    "name": "ipython",
    "version": 3
   },
   "file_extension": ".py",
   "mimetype": "text/x-python",
   "name": "python",
   "nbconvert_exporter": "python",
   "pygments_lexer": "ipython3",
   "version": "3.10.8"
  }
 },
 "nbformat": 4,
 "nbformat_minor": 5
}
