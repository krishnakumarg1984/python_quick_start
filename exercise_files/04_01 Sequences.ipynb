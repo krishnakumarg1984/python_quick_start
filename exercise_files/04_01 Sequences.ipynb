{
 "cells": [
  {
   "cell_type": "markdown",
   "id": "c339fa06",
   "metadata": {},
   "source": [
    "## Store an individual piece of data"
   ]
  },
  {
   "cell_type": "code",
   "execution_count": 1,
   "id": "e6c0a929",
   "metadata": {},
   "outputs": [],
   "source": [
    "name = \"Brad\""
   ]
  },
  {
   "cell_type": "markdown",
   "id": "7702364d",
   "metadata": {},
   "source": [
    "## Store a collection of data"
   ]
  },
  {
   "cell_type": "code",
   "execution_count": 2,
   "id": "3191ed67",
   "metadata": {},
   "outputs": [],
   "source": [
    "group = [\"Daniel\", \"Habiiba\", \"Gloria\", \"Erick\", \"Sahara\", \"Marvin\"]"
   ]
  },
  {
   "cell_type": "markdown",
   "id": "9c9603c7",
   "metadata": {},
   "source": [
    "## `name` vs. `group`"
   ]
  },
  {
   "cell_type": "code",
   "execution_count": 3,
   "id": "aecaef66",
   "metadata": {},
   "outputs": [
    {
     "data": {
      "text/plain": [
       "str"
      ]
     },
     "execution_count": 3,
     "metadata": {},
     "output_type": "execute_result"
    }
   ],
   "source": [
    "type(name)"
   ]
  },
  {
   "cell_type": "code",
   "execution_count": 4,
   "id": "4334e12f",
   "metadata": {},
   "outputs": [
    {
     "data": {
      "text/plain": [
       "list"
      ]
     },
     "execution_count": 4,
     "metadata": {},
     "output_type": "execute_result"
    }
   ],
   "source": [
    "type(group)"
   ]
  },
  {
   "cell_type": "code",
   "execution_count": null,
   "id": "de1a8cd4",
   "metadata": {},
   "outputs": [],
   "source": []
  }
 ],
 "metadata": {
  "kernelspec": {
   "display_name": "Python 3 (ipykernel)",
   "language": "python",
   "name": "python3"
  },
  "language_info": {
   "codemirror_mode": {
    "name": "ipython",
    "version": 3
   },
   "file_extension": ".py",
   "mimetype": "text/x-python",
   "name": "python",
   "nbconvert_exporter": "python",
   "pygments_lexer": "ipython3",
   "version": "3.10.8"
  }
 },
 "nbformat": 4,
 "nbformat_minor": 5
}
