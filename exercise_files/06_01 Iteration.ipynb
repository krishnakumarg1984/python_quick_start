{
 "cells": [
  {
   "cell_type": "code",
   "execution_count": 1,
   "id": "8f8b9172",
   "metadata": {},
   "outputs": [
    {
     "name": "stdout",
     "output_type": "stream",
     "text": [
      "6\n"
     ]
    }
   ],
   "source": [
    "word = \"serendipitous\"\n",
    "\n",
    "vowels = [\"a\", \"e\", \"i\", \"o\", \"u\"]\n",
    "\n",
    "vowelCount = 0\n",
    "\n",
    "for character in word:\n",
    "    if character in vowels:\n",
    "        vowelCount += 1\n",
    "        \n",
    "print(vowelCount)"
   ]
  },
  {
   "cell_type": "code",
   "execution_count": null,
   "id": "c22c73ad",
   "metadata": {},
   "outputs": [],
   "source": []
  }
 ],
 "metadata": {
  "kernelspec": {
   "display_name": "Python 3 (ipykernel)",
   "language": "python",
   "name": "python3"
  },
  "language_info": {
   "codemirror_mode": {
    "name": "ipython",
    "version": 3
   },
   "file_extension": ".py",
   "mimetype": "text/x-python",
   "name": "python",
   "nbconvert_exporter": "python",
   "pygments_lexer": "ipython3",
   "version": "3.11.2"
  }
 },
 "nbformat": 4,
 "nbformat_minor": 5
}
