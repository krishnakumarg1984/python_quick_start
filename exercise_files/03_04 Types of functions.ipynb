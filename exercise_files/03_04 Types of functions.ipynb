{
 "cells": [
  {
   "cell_type": "code",
   "execution_count": 3,
   "id": "54114474",
   "metadata": {},
   "outputs": [],
   "source": [
    "def greeting():\n",
    "    print(\"Hey there!\")"
   ]
  },
  {
   "cell_type": "code",
   "execution_count": 4,
   "id": "912abae0",
   "metadata": {},
   "outputs": [
    {
     "name": "stdout",
     "output_type": "stream",
     "text": [
      "Hey there!\n"
     ]
    }
   ],
   "source": [
    "greeting()"
   ]
  },
  {
   "cell_type": "code",
   "execution_count": 5,
   "id": "a31be366",
   "metadata": {},
   "outputs": [],
   "source": [
    "def greet(name):\n",
    "    print(\"Hi \" + name + \"!\")"
   ]
  },
  {
   "cell_type": "code",
   "execution_count": 6,
   "id": "b02613b7",
   "metadata": {},
   "outputs": [
    {
     "name": "stdout",
     "output_type": "stream",
     "text": [
      "Hi Joshua!\n"
     ]
    }
   ],
   "source": [
    "greet(\"Joshua\")"
   ]
  },
  {
   "cell_type": "code",
   "execution_count": 7,
   "id": "ece02757",
   "metadata": {},
   "outputs": [],
   "source": [
    "def square(x):\n",
    "    return x * x"
   ]
  },
  {
   "cell_type": "code",
   "execution_count": 8,
   "id": "a1ddf429",
   "metadata": {},
   "outputs": [],
   "source": [
    "result = square(5)"
   ]
  },
  {
   "cell_type": "code",
   "execution_count": 9,
   "id": "e3898966",
   "metadata": {},
   "outputs": [
    {
     "name": "stdout",
     "output_type": "stream",
     "text": [
      "25\n"
     ]
    }
   ],
   "source": [
    "print(result)"
   ]
  },
  {
   "cell_type": "code",
   "execution_count": 10,
   "id": "140519ea",
   "metadata": {},
   "outputs": [],
   "source": [
    "anotherOne = square(result)"
   ]
  },
  {
   "cell_type": "code",
   "execution_count": 11,
   "id": "8769fa08",
   "metadata": {},
   "outputs": [
    {
     "name": "stdout",
     "output_type": "stream",
     "text": [
      "625\n"
     ]
    }
   ],
   "source": [
    "print(anotherOne)"
   ]
  },
  {
   "cell_type": "code",
   "execution_count": 12,
   "id": "a79adbad",
   "metadata": {},
   "outputs": [],
   "source": [
    "def sumOfSquares(x, y):\n",
    "    square1 = x * x\n",
    "    square2 = y * y\n",
    "    return square1 + square2"
   ]
  },
  {
   "cell_type": "code",
   "execution_count": 13,
   "id": "9b3ce455",
   "metadata": {},
   "outputs": [],
   "source": [
    "result = sumOfSquares(2, 3)"
   ]
  },
  {
   "cell_type": "code",
   "execution_count": 14,
   "id": "585d13fd",
   "metadata": {},
   "outputs": [
    {
     "name": "stdout",
     "output_type": "stream",
     "text": [
      "13\n"
     ]
    }
   ],
   "source": [
    "print(result)"
   ]
  },
  {
   "cell_type": "code",
   "execution_count": 15,
   "id": "023cbbeb",
   "metadata": {},
   "outputs": [],
   "source": [
    "def is_it_raining():\n",
    "    raining = input(\"Is it raining today?\")\n",
    "    return raining"
   ]
  },
  {
   "cell_type": "code",
   "execution_count": 16,
   "id": "3a1fa2a6",
   "metadata": {},
   "outputs": [
    {
     "name": "stdout",
     "output_type": "stream",
     "text": [
      "Is it raining today?no\n"
     ]
    }
   ],
   "source": [
    "monday_rain = is_it_raining()"
   ]
  },
  {
   "cell_type": "code",
   "execution_count": 17,
   "id": "d58259f3",
   "metadata": {},
   "outputs": [
    {
     "name": "stdout",
     "output_type": "stream",
     "text": [
      "no\n"
     ]
    }
   ],
   "source": [
    "print(monday_rain)"
   ]
  },
  {
   "cell_type": "code",
   "execution_count": 18,
   "id": "a4d41eee",
   "metadata": {},
   "outputs": [
    {
     "name": "stdout",
     "output_type": "stream",
     "text": [
      "Is it raining today?yes\n"
     ]
    }
   ],
   "source": [
    "tuesday_rain = is_it_raining()"
   ]
  },
  {
   "cell_type": "code",
   "execution_count": 19,
   "id": "5deef3c7",
   "metadata": {},
   "outputs": [
    {
     "name": "stdout",
     "output_type": "stream",
     "text": [
      "yes\n"
     ]
    }
   ],
   "source": [
    "print(tuesday_rain)"
   ]
  },
  {
   "cell_type": "code",
   "execution_count": null,
   "id": "cdfd38f3",
   "metadata": {},
   "outputs": [],
   "source": []
  }
 ],
 "metadata": {
  "kernelspec": {
   "display_name": "Python 3 (ipykernel)",
   "language": "python",
   "name": "python3"
  },
  "language_info": {
   "codemirror_mode": {
    "name": "ipython",
    "version": 3
   },
   "file_extension": ".py",
   "mimetype": "text/x-python",
   "name": "python",
   "nbconvert_exporter": "python",
   "pygments_lexer": "ipython3",
   "version": "3.10.8"
  }
 },
 "nbformat": 4,
 "nbformat_minor": 5
}
